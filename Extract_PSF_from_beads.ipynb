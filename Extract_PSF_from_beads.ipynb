{
 "cells": [
  {
   "cell_type": "markdown",
   "id": "5f3b484c",
   "metadata": {},
   "source": [
    "#### PSF ANALYSIS\n",
    "\n",
    "Code to extract the sigma values of a 3D Gaussian-modelled PSF, used for 3D deconvolution (Step 0  of data analuysis)"
   ]
  },
  {
   "cell_type": "code",
   "execution_count": null,
   "id": "28cbd413",
   "metadata": {},
   "outputs": [],
   "source": [
    "\"\"\"\n",
    "Code adapted from D.Nguyen 2021:\n",
    "    https://github.com/Omnistic/MicrobeadsToPSF.git\n",
    "\"\"\"\n",
    "import numpy as np\n",
    "import matplotlib.pyplot as plt\n",
    "import importlib\n",
    "import pickle\n",
    "from scipy.optimize import curve_fit\n",
    "from scipy.optimize import curve_fit\n",
    "# local folder with homemade libraries\n",
    "import sys\n",
    "sys.path.append('/home/ngc/Documents/GitHub/multiview_utilities')\n",
    "# HOMEMADE LIBRARIES AND IMPORTS\n",
    "import math_utils as matut\n",
    "import raw_images_manipulation_utilities as imanip\n",
    "importlib.reload(matut); # \n",
    "importlib.reload(manip); # reload the modules for updating to eventual changes"
   ]
  },
  {
   "cell_type": "markdown",
   "id": "19ab1e6e",
   "metadata": {},
   "source": [
    "#### Local variables and constants.\n",
    "\n",
    "Carefully read and change the variables in the next sectionto match the volume to be analysed."
   ]
  },
  {
   "cell_type": "code",
   "execution_count": null,
   "id": "60fd2b50",
   "metadata": {},
   "outputs": [],
   "source": [
    "VOLUME_SLICES = 41 # number of images for each volume\n",
    "TIMEPOINTS =  1\n",
    "TOTAL_IMAGES = TIMEPOINTS * VOLUME_SLICES # total of raw data-images\n",
    "IMAGES_DIMENSION = 2304 # assumed square images. N.b. try to have 2^n pixels\n",
    "RAW_SLICES_FOLDER = '/home/ngc/Desktop/test_data/Beads20X_LowerC/beads'\n",
    "BACKGROUND_FOLDER = '/home/ngc/Desktop/test_data/Beads20X_LowerC/beads'"
   ]
  },
  {
   "cell_type": "markdown",
   "id": "5b079883",
   "metadata": {},
   "source": [
    "Define the cube around each bead (this volume will be the fitting dominion).\n",
    "\n",
    "*Choose sides that are slightly larger than the bead profile, eyeballing it looking thorugh the stack. Does not have to be precise. A pixel larger is better than a pixel smaller. In general, the z component will be the largest one, controlling the extent of the box.*"
   ]
  },
  {
   "cell_type": "code",
   "execution_count": null,
   "id": "05ce3ee4",
   "metadata": {},
   "outputs": [],
   "source": [
    "box_side = 21\n",
    "box = np.asarray((box_side, box_side, box_side)"
   ]
  },
  {
   "cell_type": "markdown",
   "id": "61b2332e",
   "metadata": {},
   "source": [
    "##### How may beads to consider?\n",
    "\n",
    "(code will stop after finding this number of beads)"
   ]
  },
  {
   "cell_type": "code",
   "execution_count": null,
   "id": "4ba7ffb9",
   "metadata": {},
   "outputs": [],
   "source": [
    "max_beads = 20"
   ]
  },
  {
   "cell_type": "markdown",
   "id": "d788ec62",
   "metadata": {},
   "source": [
    "#### Variables"
   ]
  },
  {
   "cell_type": "code",
   "execution_count": null,
   "id": "60c1ad25",
   "metadata": {},
   "outputs": [],
   "source": [
    "z_width, x_width, y_width = [], [], []\n",
    "\n",
    "data_list = rim.file_names_list(TIMEPOINTS)\n",
    "\n",
    "stack_0 = rim.open_binary_stack(\n",
    "    RAW_SLICES_FOLDER + data_list[0][1],\n",
    "    BACKGROUND_FOLDER + '/Background_0.tif',\n",
    "    size_x=IMAGES_DIMENSION,\n",
    "    size_y=IMAGES_DIMENSION)\n",
    "\n",
    "stack_1 = rim.open_binary_stack(\n",
    "    RAW_SLICES_FOLDER + data_list[0][2],\n",
    "    BACKGROUND_FOLDER + '/Background_1.tif',\n",
    "    size_x=IMAGES_DIMENSION,\n",
    "    size_y=IMAGES_DIMENSION)"
   ]
  },
  {
   "cell_type": "markdown",
   "id": "935bb5ab",
   "metadata": {},
   "source": []
  },
  {
   "cell_type": "code",
   "execution_count": null,
   "id": "08b5a33c",
   "metadata": {},
   "outputs": [],
   "source": [
    "x_val = np.arange(0, box[0], 1)\n",
    "y_val = np.arange(0, box[1], 1)\n",
    "z_val = np.arange(0, box[2], 1)\n",
    "z_grid, x_grid, y_grid = np.meshgrid(z_val, x_val, y_val, indexing='ij')\n",
    "xdata = np.vstack((z_grid.ravel(), x_grid.ravel(), y_grid.ravel()))\n",
    "mean_b_z, mean_b_x, mean_b_y = 0, 0, 0"
   ]
  },
  {
   "cell_type": "markdown",
   "id": "b2c7ad20",
   "metadata": {},
   "source": [
    "#### Beads seach and Gaussian fitting\n",
    "\n",
    "(lopping in the **while**)"
   ]
  },
  {
   "cell_type": "code",
   "execution_count": null,
   "id": "2e612a16",
   "metadata": {},
   "outputs": [],
   "source": [
    "beads = 0\n",
    "z_chosen = int(stack_0.shape[0] / 2)\n",
    "print('\\nNUMBER OF BEADS FOUND:\\n')\n",
    "\n",
    "while beads < max_beads:\n",
    "\n",
    "    x_max, y_max = np.unravel_index(\n",
    "        np.argmax(stack_1[20, :, :]),\n",
    "        stack_1[20, :, :].shape)\n",
    "\n",
    "    if (\n",
    "        x_max - box[1] / 2 > 0\n",
    "        and x_max + box[1] / 2 < stack_0.shape[1]\n",
    "        and y_max - box[2] / 2 > 0\n",
    "        and y_max + box[2] / 2 < stack_0.shape[2]\n",
    "        ):\n",
    "        substack = stack_1[\n",
    "            int(z_chosen - box[0] / 2):int(z_chosen + box[0] / 2),\n",
    "            int(x_max - box[1] / 2):int(x_max + box[1] / 2),\n",
    "            int(y_max - box[2] / 2):int(y_max + box[2] / 2),\n",
    "            ]\n",
    "        # Reasonable starting parameters, assuming that the PSF is sampled by a few pixels (3) in x-y\n",
    "        # and 5 in z. Again these parameters are not crucial, they just need to be in a close-ish range\n",
    "        # of the actual data, in order for the fitting to run smoothly\n",
    "        \n",
    "        bg = 1 # background\n",
    "        A_coeff = 1000 # bead intensity peak\n",
    "        x_0 = box[1] / 2\n",
    "        y_0 = box[2] / 2\n",
    "        z_0 = box[0] / 2 # bead center should be the box center\n",
    "        x_sig = 3\n",
    "        y_sig = x_sig\n",
    "        z_sig = 5\n",
    "        p0 = [bg, A_coeff, z_0, x_0, y_0, z_sig, x_sig, y_sig]\n",
    "        # params = []\n",
    "        popt, pcov = curve_fit(\n",
    "            matut.gaus_3D_for_fit_2,\n",
    "            xdata,\n",
    "            substack.ravel(), \n",
    "            p0)\n",
    "        fit = matut.gaus_3D_for_fit_2(xdata, *popt)\n",
    "        fit = np.reshape(fit, (box[0], box[1], box[2]))\n",
    "        z_width.append(np.abs(popt[5]))\n",
    "        x_width.append(np.abs(popt[6]))\n",
    "        y_width.append(np.abs(popt[7]))\n",
    "\n",
    "        mean_b_z += np.abs(popt[5]) / max_beads\n",
    "        mean_b_x += np.abs(popt[6]) / max_beads\n",
    "        mean_b_y += np.abs(popt[7]) / max_beads\n",
    "        stack_1[\n",
    "            int(z_chosen - box[0] / 2):int(z_chosen + box[0] / 2),\n",
    "            int(x_max - box[1] / 2):int(x_max + box[1] / 2),\n",
    "            int(y_max - box[2] / 2):int(y_max + box[2] / 2),\n",
    "            ] = 0\n",
    "        beads += 1\n",
    "    else:\n",
    "        stack_1[\n",
    "            int(z_chosen - box[0] / 2):int(z_chosen + box[0] / 2),\n",
    "            int(x_max - box[1] / 2):int(x_max + box[1] / 2),\n",
    "            int(y_max - box[2] / 2):int(y_max + box[2] / 2),\n",
    "            ] = 0\n",
    "        \n",
    "    print(beads, end=', ', flush=True)"
   ]
  },
  {
   "cell_type": "code",
   "execution_count": null,
   "id": "a8931e56",
   "metadata": {},
   "outputs": [],
   "source": []
  },
  {
   "cell_type": "code",
   "execution_count": null,
   "id": "897ae930",
   "metadata": {},
   "outputs": [],
   "source": []
  },
  {
   "cell_type": "code",
   "execution_count": null,
   "id": "f9b9b847",
   "metadata": {},
   "outputs": [],
   "source": []
  },
  {
   "cell_type": "code",
   "execution_count": null,
   "id": "8e886936",
   "metadata": {},
   "outputs": [],
   "source": []
  },
  {
   "cell_type": "code",
   "execution_count": null,
   "id": "2f8ae8a3",
   "metadata": {},
   "outputs": [],
   "source": []
  }
 ],
 "metadata": {
  "kernelspec": {
   "display_name": "Python 3 (ipykernel)",
   "language": "python",
   "name": "python3"
  },
  "language_info": {
   "codemirror_mode": {
    "name": "ipython",
    "version": 3
   },
   "file_extension": ".py",
   "mimetype": "text/x-python",
   "name": "python",
   "nbconvert_exporter": "python",
   "pygments_lexer": "ipython3",
   "version": "3.8.10"
  }
 },
 "nbformat": 4,
 "nbformat_minor": 5
}
